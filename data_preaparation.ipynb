{
 "cells": [
  {
   "cell_type": "code",
   "execution_count": 1,
   "metadata": {},
   "outputs": [],
   "source": [
    "import os\n",
    "from rasterio.plot import show\n",
    "from rasterio.merge import merge\n",
    "import rasterio \n",
    "from scripts.raster_preparation import reproject_raster, clip_raster\n",
    "\n",
    "from tqdm import tqdm\n",
    "import geopandas as gpd\n",
    "%load_ext autoreload\n",
    "%autoreload 2\n"
   ]
  },
  {
   "attachments": {},
   "cell_type": "markdown",
   "metadata": {},
   "source": [
    "Первоочередная задача для нас тут получить общий растр  и объеденить его а затем клипнуть по геометрии которую мы сделали в кугис , перед этим надо привести все растры к общему знаменателю то есть перепроицировать их, я буду перепроицировать его в систему Буденовского района, тоесть в ютм 38Н"
   ]
  },
  {
   "cell_type": "code",
   "execution_count": 2,
   "metadata": {},
   "outputs": [],
   "source": [
    "rasters_files = os.listdir('./data/row_rasters')"
   ]
  },
  {
   "cell_type": "code",
   "execution_count": 3,
   "metadata": {},
   "outputs": [],
   "source": [
    "dstCrs = 'EPSG:32638'\n"
   ]
  },
  {
   "cell_type": "code",
   "execution_count": 4,
   "metadata": {},
   "outputs": [
    {
     "name": "stderr",
     "output_type": "stream",
     "text": [
      " 12%|█▏        | 3/26 [00:01<00:09,  2.40it/s]"
     ]
    },
    {
     "name": "stdout",
     "output_type": "stream",
     "text": [
      "CRS is the same\n",
      "CRS is the same\n",
      "CRS is the same\n",
      "CRS is the same\n"
     ]
    },
    {
     "name": "stderr",
     "output_type": "stream",
     "text": [
      " 27%|██▋       | 7/26 [00:01<00:02,  6.48it/s]"
     ]
    },
    {
     "name": "stdout",
     "output_type": "stream",
     "text": [
      "CRS is the same\n",
      "CRS is the same\n",
      "CRS is the same\n",
      "CRS is the same\n"
     ]
    },
    {
     "name": "stderr",
     "output_type": "stream",
     "text": [
      " 46%|████▌     | 12/26 [00:02<00:01, 11.59it/s]"
     ]
    },
    {
     "name": "stdout",
     "output_type": "stream",
     "text": [
      "CRS is the same\n",
      "CRS is the same\n",
      "CRS is the same\n",
      "CRS is the same\n",
      "CRS is the same\n"
     ]
    },
    {
     "name": "stderr",
     "output_type": "stream",
     "text": [
      " 62%|██████▏   | 16/26 [00:02<00:00, 14.37it/s]"
     ]
    },
    {
     "name": "stdout",
     "output_type": "stream",
     "text": [
      "CRS is the same\n",
      "CRS is the same\n",
      "CRS is the same\n",
      "CRS is the same\n",
      "CRS is the same\n"
     ]
    },
    {
     "name": "stderr",
     "output_type": "stream",
     "text": [
      " 85%|████████▍ | 22/26 [00:02<00:00, 16.83it/s]"
     ]
    },
    {
     "name": "stdout",
     "output_type": "stream",
     "text": [
      "CRS is the same\n",
      "CRS is the same\n",
      "CRS is the same\n",
      "CRS is the same\n"
     ]
    },
    {
     "name": "stderr",
     "output_type": "stream",
     "text": [
      "100%|██████████| 26/26 [00:02<00:00,  9.71it/s]"
     ]
    },
    {
     "name": "stdout",
     "output_type": "stream",
     "text": [
      "CRS is the same\n",
      "CRS is the same\n",
      "CRS is the same\n",
      "CRS is the same\n"
     ]
    },
    {
     "name": "stderr",
     "output_type": "stream",
     "text": [
      "\n"
     ]
    }
   ],
   "source": [
    "for i in tqdm(rasters_files):\n",
    "    reproject_raster(i, dstCrs )\n",
    "    "
   ]
  },
  {
   "cell_type": "code",
   "execution_count": 23,
   "metadata": {},
   "outputs": [],
   "source": [
    "vector_to_clip = gpd.read_file('./data/geoms/train_grid.geojson')"
   ]
  },
  {
   "cell_type": "code",
   "execution_count": 24,
   "metadata": {},
   "outputs": [
    {
     "data": {
      "text/plain": [
       "<AxesSubplot:>"
      ]
     },
     "execution_count": 24,
     "metadata": {},
     "output_type": "execute_result"
    },
    {
     "data": {
      "image/png": "[encoded data removed]",
      "text/plain": [
       "<Figure size 640x480 with 1 Axes>"
      ]
     },
     "metadata": {},
     "output_type": "display_data"
    }
   ],
   "source": [
    "vector_to_clip.plot()"
   ]
  },
  {
   "cell_type": "code",
   "execution_count": 25,
   "metadata": {},
   "outputs": [],
   "source": [
    "vector_to_clip['dist'] = vector_to_clip.NAME_EN.str.split(expand = True)[0]                              \n"
   ]
  },
  {
   "cell_type": "code",
   "execution_count": 26,
   "metadata": {},
   "outputs": [],
   "source": [
    "id = vector_to_clip.iloc[0].fid\n",
    "district = vector_to_clip.iloc[0].dist\n",
    "geom = vector_to_clip.iloc[0].geometry\n",
    "\n",
    "\n"
   ]
  },
  {
   "cell_type": "code",
   "execution_count": 27,
   "metadata": {},
   "outputs": [
    {
     "data": {
      "text/plain": [
       "1253"
      ]
     },
     "execution_count": 27,
     "metadata": {},
     "output_type": "execute_result"
    }
   ],
   "source": [
    "vector_to_clip.shape[0]"
   ]
  },
  {
   "cell_type": "code",
   "execution_count": 28,
   "metadata": {},
   "outputs": [
    {
     "data": {
      "text/plain": [
       "array(['Georgiyevsky', 'Mineralovodsky', 'Novoselitsky', 'Sovetsky',\n",
       "       'Levokumsky', 'Neftecumsky', 'Alexandrovsky', 'Budyonnovsky',\n",
       "       'Predgorny', 'Krasnogvardeysky', 'Stepnovsky', 'Petrovsky',\n",
       "       'Izobilnensky', 'Novoalexandrovsky', 'Kirovsky', 'Kursky'],\n",
       "      dtype=object)"
      ]
     },
     "execution_count": 28,
     "metadata": {},
     "output_type": "execute_result"
    }
   ],
   "source": [
    "vector_to_clip.dist.unique()"
   ]
  },
  {
   "cell_type": "code",
   "execution_count": 2,
   "metadata": {},
   "outputs": [
    {
     "ename": "NameError",
     "evalue": "name 'vector_to_clip' is not defined",
     "output_type": "error",
     "traceback": [
      "\u001b[0;31m---------------------------------------------------------------------------\u001b[0m",
      "\u001b[0;31mNameError\u001b[0m                                 Traceback (most recent call last)",
      "Cell \u001b[0;32mIn[2], line 1\u001b[0m\n\u001b[0;32m----> 1\u001b[0m \u001b[39mfor\u001b[39;00m i \u001b[39min\u001b[39;00m tqdm(\u001b[39mrange\u001b[39m(vector_to_clip\u001b[39m.\u001b[39mshape[\u001b[39m0\u001b[39m])): \n\u001b[1;32m      2\u001b[0m     \u001b[39mid\u001b[39m \u001b[39m=\u001b[39m vector_to_clip\u001b[39m.\u001b[39miloc[i]\u001b[39m.\u001b[39mfid\n\u001b[1;32m      3\u001b[0m     district \u001b[39m=\u001b[39m vector_to_clip\u001b[39m.\u001b[39miloc[i]\u001b[39m.\u001b[39mdist\n",
      "\u001b[0;31mNameError\u001b[0m: name 'vector_to_clip' is not defined"
     ]
    }
   ],
   "source": [
    "for i in tqdm(range(vector_to_clip.shape[0])): \n",
    "    id = grid.iloc[i].fid\n",
    "    district = vector_to_clip.iloc[i].dist\n",
    "    geom = vector_to_clip.iloc[i].geometry\n",
    "    clip_raster(f'./data/row_rasters/{district}.tif', [geom], id, dstCrs)\n",
    "    clip_raster(f'./data/mask_raster.tif', [geom], id, dstCrs, m = True)"
   ]
  },
  {
   "cell_type": "code",
   "execution_count": null,
   "metadata": {},
   "outputs": [],
   "source": []
  }
 ],
 "metadata": {
  "kernelspec": {
   "display_name": "Python 3 (ipykernel)",
   "language": "python",
   "name": "python3"
  },
  "language_info": {
   "codemirror_mode": {
    "name": "ipython",
    "version": 3
   },
   "file_extension": ".py",
   "mimetype": "text/x-python",
   "name": "python",
   "nbconvert_exporter": "python",
   "pygments_lexer": "ipython3",
   "version": "3.10.6 (main, Nov 14 2022, 16:10:14) [GCC 11.3.0]"
  },
  "orig_nbformat": 4,
  "vscode": {
   "interpreter": {
    "hash": "916dbcbb3f70747c44a77c7bcd40155683ae19c65e1c03b4aa3499c5328201f1"
   }
  }
 },
 "nbformat": 4,
 "nbformat_minor": 2
}
